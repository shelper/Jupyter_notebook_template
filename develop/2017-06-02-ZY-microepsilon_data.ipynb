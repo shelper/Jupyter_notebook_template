{
 "cells": [
  {
   "cell_type": "code",
   "execution_count": 1,
   "metadata": {
    "collapsed": false
   },
   "outputs": [
    {
     "data": {
      "application/json": {
       "Software versions": [
        {
         "module": "Python",
         "version": "3.5.2 64bit [MSC v.1900 64 bit (AMD64)]"
        },
        {
         "module": "IPython",
         "version": "6.0.0"
        },
        {
         "module": "OS",
         "version": "Windows 7 6.1.7601 SP1"
        },
        {
         "module": "numpy",
         "version": "1.12.1"
        },
        {
         "module": "scipy",
         "version": "0.19.0"
        },
        {
         "module": "matplotlib",
         "version": "2.0.2"
        },
        {
         "module": "pandas",
         "version": "0.20.1"
        }
       ]
      },
      "text/html": [
       "<table><tr><th>Software</th><th>Version</th></tr><tr><td>Python</td><td>3.5.2 64bit [MSC v.1900 64 bit (AMD64)]</td></tr><tr><td>IPython</td><td>6.0.0</td></tr><tr><td>OS</td><td>Windows 7 6.1.7601 SP1</td></tr><tr><td>numpy</td><td>1.12.1</td></tr><tr><td>scipy</td><td>0.19.0</td></tr><tr><td>matplotlib</td><td>2.0.2</td></tr><tr><td>pandas</td><td>0.20.1</td></tr><tr><td colspan='2'>Fri Jun 02 16:11:19 2017 US Eastern Daylight Time</td></tr></table>"
      ],
      "text/latex": [
       "\\begin{tabular}{|l|l|}\\hline\n",
       "{\\bf Software} & {\\bf Version} \\\\ \\hline\\hline\n",
       "Python & 3.5.2 64bit [MSC v.1900 64 bit (AMD64)] \\\\ \\hline\n",
       "IPython & 6.0.0 \\\\ \\hline\n",
       "OS & Windows 7 6.1.7601 SP1 \\\\ \\hline\n",
       "numpy & 1.12.1 \\\\ \\hline\n",
       "scipy & 0.19.0 \\\\ \\hline\n",
       "matplotlib & 2.0.2 \\\\ \\hline\n",
       "pandas & 0.20.1 \\\\ \\hline\n",
       "\\hline \\multicolumn{2}{|l|}{Fri Jun 02 16:11:19 2017 US Eastern Daylight Time} \\\\ \\hline\n",
       "\\end{tabular}\n"
      ],
      "text/plain": [
       "Software versions\n",
       "Python 3.5.2 64bit [MSC v.1900 64 bit (AMD64)]\n",
       "IPython 6.0.0\n",
       "OS Windows 7 6.1.7601 SP1\n",
       "numpy 1.12.1\n",
       "scipy 0.19.0\n",
       "matplotlib 2.0.2\n",
       "pandas 0.20.1\n",
       "Fri Jun 02 16:11:19 2017 US Eastern Daylight Time"
      ]
     },
     "execution_count": 1,
     "metadata": {},
     "output_type": "execute_result"
    }
   ],
   "source": [
    "%version_information numpy, scipy, matplotlib, pandas"
   ]
  },
  {
   "cell_type": "code",
   "execution_count": 138,
   "metadata": {
    "collapsed": false
   },
   "outputs": [
    {
     "name": "stdout",
     "output_type": "stream",
     "text": [
      "C:\\Users\\MPNV38\\ZDevelop\\tiretread\\data\\232\\anglescan1_tread.csv\n",
      "C:\\Users\\MPNV38\\ZDevelop\\tiretread\\data\\232\\anglescan2_tread.csv\n",
      "C:\\Users\\MPNV38\\ZDevelop\\tiretread\\data\\232\\anglescan3_tread.csv\n",
      "C:\\Users\\MPNV38\\ZDevelop\\tiretread\\data\\232\\fast1_tread.csv\n",
      "C:\\Users\\MPNV38\\ZDevelop\\tiretread\\data\\232\\fast2_tread.csv\n",
      "C:\\Users\\MPNV38\\ZDevelop\\tiretread\\data\\232\\fast3_tread.csv\n",
      "C:\\Users\\MPNV38\\ZDevelop\\tiretread\\data\\232\\fast4_tread.csv\n",
      "C:\\Users\\MPNV38\\ZDevelop\\tiretread\\data\\232\\slow1_tread.csv\n",
      "C:\\Users\\MPNV38\\ZDevelop\\tiretread\\data\\232\\slow2_tread.csv\n",
      "C:\\Users\\MPNV38\\ZDevelop\\tiretread\\data\\232\\slow3_tread.csv\n",
      "C:\\Users\\MPNV38\\ZDevelop\\tiretread\\data\\232\\slow4_tread.csv\n",
      "C:\\Users\\MPNV38\\ZDevelop\\tiretread\\data\\232\\trail7_tread.csv\n",
      "C:\\Users\\MPNV38\\ZDevelop\\tiretread\\data\\232\\trail8_tread.csv\n",
      "C:\\Users\\MPNV38\\ZDevelop\\tiretread\\data\\232\\trail9_tread.csv\n",
      "C:\\Users\\MPNV38\\ZDevelop\\tiretread\\data\\232\\trial_tread.csv\n",
      "C:\\Users\\MPNV38\\ZDevelop\\tiretread\\data\\232\\trial1_tread.csv\n",
      "C:\\Users\\MPNV38\\ZDevelop\\tiretread\\data\\232\\trial2_tread.csv\n",
      "C:\\Users\\MPNV38\\ZDevelop\\tiretread\\data\\232\\trial3_tread.csv\n",
      "C:\\Users\\MPNV38\\ZDevelop\\tiretread\\data\\232\\trial4_tread.csv\n",
      "C:\\Users\\MPNV38\\ZDevelop\\tiretread\\data\\232\\trial5_tread.csv\n",
      "C:\\Users\\MPNV38\\ZDevelop\\tiretread\\data\\232\\trial6_tread.csv\n"
     ]
    }
   ],
   "source": [
    "import csv\n",
    "import numpy as np\n",
    "from glob import iglob\n",
    "data_folder = r\"C:\\Users\\MPNV38\\ZDevelop\\tiretread\\data\\232/\" \n",
    "for data_file in iglob(data_folder + '*.csv'):\n",
    "    data = []\n",
    "    with open(data_file) as f:\n",
    "        for i, line in enumerate(csv.reader(f, delimiter=';')):\n",
    "            if i > 9 and line:\n",
    "                data.append(float(line[1].replace(',', '.')))\n",
    "#                 new_line = [float(s.replace(',', '.')) for s in line[:2]] \n",
    "    #             new_line = ','.join(line).split(',')\n",
    "    #             new_line = [float(s) for s in  new_line[:8]]\n",
    "#                 data.append(new_line)\n",
    "    data = np.array(data)\n",
    "    new_data_file = data_file[:-4] + '_tread.csv'\n",
    "    np.savetxt(new_data_file, data, fmt='%.3f')\n",
    "    print(new_data_file)\n"
   ]
  },
  {
   "cell_type": "code",
   "execution_count": null,
   "metadata": {
    "collapsed": true
   },
   "outputs": [],
   "source": []
  }
 ],
 "metadata": {
  "kernelspec": {
   "display_name": "Python 3",
   "language": "python",
   "name": "python3"
  },
  "language_info": {
   "codemirror_mode": {
    "name": "ipython",
    "version": 3
   },
   "file_extension": ".py",
   "mimetype": "text/x-python",
   "name": "python",
   "nbconvert_exporter": "python",
   "pygments_lexer": "ipython3",
   "version": "3.5.2"
  }
 },
 "nbformat": 4,
 "nbformat_minor": 2
}
