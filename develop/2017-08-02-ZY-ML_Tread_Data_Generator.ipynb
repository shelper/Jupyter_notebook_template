{
 "cells": [
  {
   "cell_type": "code",
   "execution_count": 39,
   "metadata": {
    "collapsed": true
   },
   "outputs": [],
   "source": [
    "from sympy import *\n",
    "import numpy as np\n",
    "import matplotlib.pyplot as plt\n",
    "%matplotlib inline"
   ]
  },
  {
   "cell_type": "code",
   "execution_count": 70,
   "metadata": {
    "collapsed": false
   },
   "outputs": [
    {
     "data": {
      "text/plain": [
       "[<matplotlib.lines.Line2D at 0xcc0fba8>]"
      ]
     },
     "execution_count": 70,
     "metadata": {},
     "output_type": "execute_result"
    },
    {
     "data": {
      "image/png": "[encoded data removed]",
      "text/plain": [
       "<matplotlib.figure.Figure at 0xcc0fac8>"
      ]
     },
     "metadata": {},
     "output_type": "display_data"
    }
   ],
   "source": [
    "tread_width = 50\n",
    "flat_edge_width = 50\n",
    "tread_bottom_width = 50\n",
    "\n",
    "x = symbols('x')\n",
    "smooth_step_func = lambdify(x, 3 * x**2 - 2 * x**3)\n",
    "\n",
    "tread_right_edge = smooth_step_func(np.linspace(0, 1, tread_bottom_width)) - 1\n",
    "tread_left_edge =  - tread_right_edge - 1\n",
    "\n",
    "major_tread = np.concatenate((np.zeros(flat_edge_width), \n",
    "                        tread_left_edge, \n",
    "                        -np.ones(tread_width), \n",
    "                        tread_right_edge,\n",
    "                        np.zeros(flat_edge_width)))\n",
    "\n",
    "minor_tread = np.concatenate((np.zeros(flat_edge_width), \n",
    "                        tread_left_edge * 0.5, \n",
    "                        tread_right_edge * 0.5,\n",
    "                        np.zeros(flat_edge_width)))\n",
    "\n",
    "plt.plot(major_tread)\n",
    "plt.plot(minor_tread)"
   ]
  },
  {
   "cell_type": "code",
   "execution_count": null,
   "metadata": {
    "collapsed": true
   },
   "outputs": [],
   "source": [
    "speed_variation\n",
    "x = np.arange(len(major_tread))\n",
    "\n",
    "xp = np.cumsum(abs(3 + np.cumsum(np.random.randn(100)*10))))\n",
    "\n",
    "c1, c2, c3 = symbols('c1 c2 c3')\n",
    "\n",
    "drift_func = c1 * x + c2 ** x\n",
    "\n",
    "\n",
    "tread_drift = symbol()\n",
    "\n",
    "depth\n",
    "width\n",
    "center\n",
    "edge_size\n",
    "disortion\n",
    "drift\n",
    "\n",
    "\n",
    "catagerys = ['major_tread', 'minor_tread', 'partial_major_tread', 'partial_minor_tread', 'none_tread']"
   ]
  }
 ],
 "metadata": {
  "kernelspec": {
   "display_name": "Python 3",
   "language": "python",
   "name": "python3"
  },
  "language_info": {
   "codemirror_mode": {
    "name": "ipython",
    "version": 3
   },
   "file_extension": ".py",
   "mimetype": "text/x-python",
   "name": "python",
   "nbconvert_exporter": "python",
   "pygments_lexer": "ipython3",
   "version": "3.5.2"
  }
 },
 "nbformat": 4,
 "nbformat_minor": 2
}
