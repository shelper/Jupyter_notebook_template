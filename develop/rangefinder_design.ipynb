{
 "cells": [
  {
   "cell_type": "code",
   "execution_count": 1,
   "metadata": {
    "collapsed": true
   },
   "outputs": [],
   "source": [
    "%qtconsole --style monokai"
   ]
  },
  {
   "cell_type": "markdown",
   "metadata": {},
   "source": [
    "## setup of the system\n",
    "The optical diagram of a range finder setup for tire tread depth measurements is shown below, assume baseline (b), lens focal length (f) and the sensor signal location (x), we can calculate that the minimal distance from the lens pinhole to the measured surface (d0):\n",
    "![fig.1 system setup](../figures/RangeFinderDiagram.png)"
   ]
  },
  {
   "cell_type": "markdown",
   "metadata": {},
   "source": [
    "## laser power requirements for slit design\n",
    "Assume:\n",
    "- laser power: p (0.001w)\n",
    "- slit width: w (100um)\n",
    "- pixel size: 5.5 * 64 (um)\n",
    "- reflectivity of tire: R (0.02)\n",
    "- tire surface to slit: d (20mm)\n",
    "- slit to sensor: f (8mm)\n",
    "- exposure time: t (0.001s)\n",
    "- sensitivity of the sensor: s (79V/lx * s)\n",
    "we can calculate the amount of light power/lux goes into each pixel:\n",
    "$$ lux = 1E6 * p * 683 (for 555nm only) * R / (2 * pi * (d + f)**2) $$\n",
    "$$ v = lux * s * t $$\n",
    "for default setups we will get 109mv voltage output, or about 1/9 of the dynamic range \n"
   ]
  },
  {
   "cell_type": "code",
   "execution_count": 12,
   "metadata": {
    "collapsed": false
   },
   "outputs": [],
   "source": [
    "import numpy as np\n",
    "from sympy import *\n",
    "\n",
    "from ipywidgets import interact, fixed, interactive\n",
    "import ipywidgets as widgets\n",
    "from IPython.display import display"
   ]
  },
  {
   "cell_type": "code",
   "execution_count": 26,
   "metadata": {
    "collapsed": true
   },
   "outputs": [],
   "source": [
    "# system parameters\n",
    "f = 7.9  # mm\n",
    "fov = 54 # unit degree"
   ]
  },
  {
   "cell_type": "code",
   "execution_count": 27,
   "metadata": {
    "collapsed": false
   },
   "outputs": [],
   "source": [
    "w_baseline = widgets.FloatSlider(min=5, max=15, step=0.5, value=5, readout=False)\n",
    "w_d0 = widgets.Label(\"foo\")\n",
    "def calc_d0(*args):\n",
    "    w_baseline.description = 'Baseline {:.1f}mm'.format(w_baseline.value)\n",
    "    d0_v = w_baseline.value / np.tan(np.radians(fov/2))\n",
    "    w_d0.value = \"Minimal distance from pinhole to tire (d0): {:.2f}mm\".format(d0_v)\n",
    "    return d0_v\n",
    "\n",
    "calc_d0()    \n",
    "w_baseline.observe(calc_d0, 'value')\n",
    "\n",
    "display(w_baseline)\n",
    "display(w_d0)"
   ]
  },
  {
   "cell_type": "code",
   "execution_count": 25,
   "metadata": {
    "collapsed": false
   },
   "outputs": [
    {
     "name": "stdout",
     "output_type": "stream",
     "text": [
      "     30.4295359709215⋅b    \n",
      "───────────────────────────\n",
      "                          2\n",
      "(1.96261050550515⋅x - 7.9) \n"
     ]
    }
   ],
   "source": [
    "# calculate the resolution \n",
    "b, x = symbols('b, x') # b: baseline, x: signal location on sensor calculated from sensor end.\n",
    "d0 = b / np.tan(np.radians(fov/2))\n",
    "d = (x * d0**2) / (b * f - x * d0)\n",
    "dd = simplify(diff(d, x))\n",
    "pprint(dd)"
   ]
  },
  {
   "cell_type": "code",
   "execution_count": 48,
   "metadata": {
    "collapsed": false
   },
   "outputs": [
    {
     "name": "stdout",
     "output_type": "stream",
     "text": [
      "102.915079512958 0.0732796552294959\n"
     ]
    }
   ],
   "source": [
    "x_res = \n",
    "x_res = 0.0055\n",
    "d_res = dd * x_res\n",
    "d_res_min = d_res.subs({b:10, d0:20, f:7.9, x:0})\n",
    "d_res_max = d_res.subs({b:10, d0:20, f:7.9, x:2.5})\n",
    "print(d_res_min, d_res_max)"
   ]
  },
  {
   "cell_type": "code",
   "execution_count": 96,
   "metadata": {
    "collapsed": false,
    "scrolled": true
   },
   "outputs": [
    {
     "name": "stdout",
     "output_type": "stream",
     "text": [
      "{'old': 5.0, 'new': 4.9, 'name': 'value', 'owner': <ipywidgets.widgets.widget_float.FloatSlider object at 0x0000000008E997B8>, 'type': 'change'}\n",
      "{'old': 4.9, 'new': 5.0, 'name': 'value', 'owner': <ipywidgets.widgets.widget_float.FloatSlider object at 0x0000000008E997B8>, 'type': 'change'}\n",
      "{'old': 5.0, 'new': 5.1, 'name': 'value', 'owner': <ipywidgets.widgets.widget_float.FloatSlider object at 0x0000000008E997B8>, 'type': 'change'}\n",
      "{'old': 5.1, 'new': 5.2, 'name': 'value', 'owner': <ipywidgets.widgets.widget_float.FloatSlider object at 0x0000000008E997B8>, 'type': 'change'}\n",
      "{'old': 5.2, 'new': 5.35, 'name': 'value', 'owner': <ipywidgets.widgets.widget_float.FloatSlider object at 0x0000000008E997B8>, 'type': 'change'}\n",
      "{'old': 5.35, 'new': 5.75, 'name': 'value', 'owner': <ipywidgets.widgets.widget_float.FloatSlider object at 0x0000000008E997B8>, 'type': 'change'}\n",
      "{'old': 5.75, 'new': 6.05, 'name': 'value', 'owner': <ipywidgets.widgets.widget_float.FloatSlider object at 0x0000000008E997B8>, 'type': 'change'}\n",
      "{'old': 6.05, 'new': 6.15, 'name': 'value', 'owner': <ipywidgets.widgets.widget_float.FloatSlider object at 0x0000000008E997B8>, 'type': 'change'}\n",
      "{'old': 6.15, 'new': 6.25, 'name': 'value', 'owner': <ipywidgets.widgets.widget_float.FloatSlider object at 0x0000000008E997B8>, 'type': 'change'}\n",
      "{'old': 6.25, 'new': 6.35, 'name': 'value', 'owner': <ipywidgets.widgets.widget_float.FloatSlider object at 0x0000000008E997B8>, 'type': 'change'}\n",
      "{'old': 6.35, 'new': 6.85, 'name': 'value', 'owner': <ipywidgets.widgets.widget_float.FloatSlider object at 0x0000000008E997B8>, 'type': 'change'}\n",
      "{'old': 6.85, 'new': 7.55, 'name': 'value', 'owner': <ipywidgets.widgets.widget_float.FloatSlider object at 0x0000000008E997B8>, 'type': 'change'}\n",
      "{'old': 7.55, 'new': 7.8, 'name': 'value', 'owner': <ipywidgets.widgets.widget_float.FloatSlider object at 0x0000000008E997B8>, 'type': 'change'}\n",
      "{'old': 7.8, 'new': 8.3, 'name': 'value', 'owner': <ipywidgets.widgets.widget_float.FloatSlider object at 0x0000000008E997B8>, 'type': 'change'}\n",
      "{'old': 8.3, 'new': 8.4, 'name': 'value', 'owner': <ipywidgets.widgets.widget_float.FloatSlider object at 0x0000000008E997B8>, 'type': 'change'}\n",
      "{'old': 8.4, 'new': 8.5, 'name': 'value', 'owner': <ipywidgets.widgets.widget_float.FloatSlider object at 0x0000000008E997B8>, 'type': 'change'}\n",
      "{'old': 8.5, 'new': 8.55, 'name': 'value', 'owner': <ipywidgets.widgets.widget_float.FloatSlider object at 0x0000000008E997B8>, 'type': 'change'}\n",
      "{'old': 8.55, 'new': 8.7, 'name': 'value', 'owner': <ipywidgets.widgets.widget_float.FloatSlider object at 0x0000000008E997B8>, 'type': 'change'}\n",
      "{'old': 8.7, 'new': 8.75, 'name': 'value', 'owner': <ipywidgets.widgets.widget_float.FloatSlider object at 0x0000000008E997B8>, 'type': 'change'}\n",
      "{'old': 8.75, 'new': 8.8, 'name': 'value', 'owner': <ipywidgets.widgets.widget_float.FloatSlider object at 0x0000000008E997B8>, 'type': 'change'}\n",
      "{'old': 8.8, 'new': 8.65, 'name': 'value', 'owner': <ipywidgets.widgets.widget_float.FloatSlider object at 0x0000000008E997B8>, 'type': 'change'}\n",
      "{'old': 8.65, 'new': 8.6, 'name': 'value', 'owner': <ipywidgets.widgets.widget_float.FloatSlider object at 0x0000000008E997B8>, 'type': 'change'}\n",
      "{'old': 8.6, 'new': 8.5, 'name': 'value', 'owner': <ipywidgets.widgets.widget_float.FloatSlider object at 0x0000000008E997B8>, 'type': 'change'}\n",
      "{'old': 8.5, 'new': 8.45, 'name': 'value', 'owner': <ipywidgets.widgets.widget_float.FloatSlider object at 0x0000000008E997B8>, 'type': 'change'}\n",
      "{'old': 8.45, 'new': 8.4, 'name': 'value', 'owner': <ipywidgets.widgets.widget_float.FloatSlider object at 0x0000000008E997B8>, 'type': 'change'}\n",
      "{'old': 8.4, 'new': 8.25, 'name': 'value', 'owner': <ipywidgets.widgets.widget_float.FloatSlider object at 0x0000000008E997B8>, 'type': 'change'}\n",
      "{'old': 8.25, 'new': 8.15, 'name': 'value', 'owner': <ipywidgets.widgets.widget_float.FloatSlider object at 0x0000000008E997B8>, 'type': 'change'}\n",
      "{'old': 8.15, 'new': 8.1, 'name': 'value', 'owner': <ipywidgets.widgets.widget_float.FloatSlider object at 0x0000000008E997B8>, 'type': 'change'}\n",
      "{'old': 8.1, 'new': 7.5, 'name': 'value', 'owner': <ipywidgets.widgets.widget_float.FloatSlider object at 0x0000000008E997B8>, 'type': 'change'}\n",
      "{'old': 7.5, 'new': 7.2, 'name': 'value', 'owner': <ipywidgets.widgets.widget_float.FloatSlider object at 0x0000000008E997B8>, 'type': 'change'}\n",
      "{'old': 7.2, 'new': 6.95, 'name': 'value', 'owner': <ipywidgets.widgets.widget_float.FloatSlider object at 0x0000000008E997B8>, 'type': 'change'}\n",
      "{'old': 6.95, 'new': 6.85, 'name': 'value', 'owner': <ipywidgets.widgets.widget_float.FloatSlider object at 0x0000000008E997B8>, 'type': 'change'}\n",
      "{'old': 6.85, 'new': 6.75, 'name': 'value', 'owner': <ipywidgets.widgets.widget_float.FloatSlider object at 0x0000000008E997B8>, 'type': 'change'}\n",
      "{'old': 6.75, 'new': 6.3, 'name': 'value', 'owner': <ipywidgets.widgets.widget_float.FloatSlider object at 0x0000000008E997B8>, 'type': 'change'}\n",
      "{'old': 6.3, 'new': 6.25, 'name': 'value', 'owner': <ipywidgets.widgets.widget_float.FloatSlider object at 0x0000000008E997B8>, 'type': 'change'}\n",
      "{'old': 6.25, 'new': 6.2, 'name': 'value', 'owner': <ipywidgets.widgets.widget_float.FloatSlider object at 0x0000000008E997B8>, 'type': 'change'}\n",
      "{'old': 6.2, 'new': 6.25, 'name': 'value', 'owner': <ipywidgets.widgets.widget_float.FloatSlider object at 0x0000000008E997B8>, 'type': 'change'}\n",
      "{'old': 6.25, 'new': 6.3, 'name': 'value', 'owner': <ipywidgets.widgets.widget_float.FloatSlider object at 0x0000000008E997B8>, 'type': 'change'}\n",
      "{'old': 6.3, 'new': 6.4, 'name': 'value', 'owner': <ipywidgets.widgets.widget_float.FloatSlider object at 0x0000000008E997B8>, 'type': 'change'}\n",
      "{'old': 6.4, 'new': 6.55, 'name': 'value', 'owner': <ipywidgets.widgets.widget_float.FloatSlider object at 0x0000000008E997B8>, 'type': 'change'}\n",
      "{'old': 6.55, 'new': 7.1, 'name': 'value', 'owner': <ipywidgets.widgets.widget_float.FloatSlider object at 0x0000000008E997B8>, 'type': 'change'}\n",
      "{'old': 7.1, 'new': 7.2, 'name': 'value', 'owner': <ipywidgets.widgets.widget_float.FloatSlider object at 0x0000000008E997B8>, 'type': 'change'}\n",
      "{'old': 7.2, 'new': 7.35, 'name': 'value', 'owner': <ipywidgets.widgets.widget_float.FloatSlider object at 0x0000000008E997B8>, 'type': 'change'}\n",
      "{'old': 7.35, 'new': 7.4, 'name': 'value', 'owner': <ipywidgets.widgets.widget_float.FloatSlider object at 0x0000000008E997B8>, 'type': 'change'}\n",
      "{'old': 7.4, 'new': 7.5, 'name': 'value', 'owner': <ipywidgets.widgets.widget_float.FloatSlider object at 0x0000000008E997B8>, 'type': 'change'}\n"
     ]
    }
   ],
   "source": [
    "s = widgets.IntRangeSlider(\n",
    "    value=[5, 7],\n",
    "    min=0,\n",
    "    max=10,\n",
    "    step=1,\n",
    "    description='Test:',\n",
    "    disabled=False,\n",
    "    continuous_update=False,\n",
    "    orientation='horizontal',\n",
    "    readout=False,\n",
    "    readout_format='i',\n",
    "    slider_color='white',\n",
    "    color='black'\n",
    ")\n",
    "t = widgets.Label(\"{}\".format(s.value))\n",
    "widgets.HBox([t, s])\n",
    "\n",
    "x_widget = widgets.FloatSlider(min=0.0, max=10.0, step=0.05)\n",
    "y_widget = widgets.FloatSlider(min=0.5, max=10.0, step=0.05, value=5.0)\n",
    "\n",
    "def update_x_range(*args):\n",
    "    print(*args)\n",
    "    x_widget.max = 2.0 * y_widget.value\n",
    "y_widget.observe(update_x_range, 'value')\n",
    "\n",
    "from IPython.display import display\n",
    "display(x_widget)\n",
    "display(y_widget)\n",
    "\n",
    "int_range = widgets.IntSlider()\n",
    "display(int_range)\n",
    "\n",
    "def on_value_change(*change):\n",
    "    print(change)\n",
    "\n",
    "int_range.observe(on_value_change, names='value')"
   ]
  },
  {
   "cell_type": "code",
   "execution_count": 7,
   "metadata": {
    "collapsed": false
   },
   "outputs": [],
   "source": [
    "from glob import glob\n",
    "from PIL import Image\n",
    "import numpy as np\n",
    "import matplotlib.pyplot as plt\n",
    "\n",
    "imgs = glob(r\"C:\\Users\\MPNV38\\ZDevelop\\TireTread\\data\\20170206\\*.bmp\")\n",
    "\n",
    "plt.ion()\n",
    "plt.figure()\n",
    "for img_file in imgs:\n",
    "    img = np.array(Image.open(img_file).convert(\"L\")).astype('float')\n",
    "    line = img.mean(axis=0)\n",
    "    plt.plot(line)\n",
    "\n",
    "from scipy.optimize import curve_fit\n",
    "\n",
    "\n",
    "n = len(x)                          #the number of data\n",
    "mean = sum(x*y)/n                   #note this correction\n",
    "sigma = sum(y*(x-mean)**2)/n        #note this correction\n",
    "\n",
    "def gaus(x,a,x0,sigma):\n",
    "    return a*exp(-(x-x0)**2/(2*sigma**2))\n",
    "\n",
    "popt,pcov = curve_fit(gaus,x,y,p0=[1,mean,sigma])\n",
    "\n",
    "plt.plot(x,y,'b+:',label='data')\n",
    "plt.plot(x,gaus(x,*popt),'ro:',label='fit')\n",
    "plt.legend()\n",
    "plt.title('Fig. 3 - Fit for Time Constant')\n",
    "plt.xlabel('Time (s)')\n",
    "plt.ylabel('Voltage (V)')\n",
    "plt.show()\n",
    "    "
   ]
  },
  {
   "cell_type": "markdown",
   "metadata": {
    "collapsed": true
   },
   "source": []
  },
  {
   "cell_type": "markdown",
   "metadata": {},
   "source": [
    "## setup of the system\n",
    "The optical diagram of a range finder setup for tire tread depth measurements is shown below, assume baseline (b), lens focal length (f), we can calculate what is the combination of b and f can give the best focus for all distances.\n",
    "![fig.2 SE655 based system setup](../figures/RangeFinderDesignDimensions.png)"
   ]
  },
  {
   "cell_type": "code",
   "execution_count": 139,
   "metadata": {
    "collapsed": false
   },
   "outputs": [],
   "source": [
    "f = 5.37\n",
    "a0 = np.radians(29)\n",
    "b = 10\n",
    "\n",
    "plt.figure()\n",
    "for b in [10, 10.5, 11, 11.5]:\n",
    "# for a0 in np.linspace(np.radians(27), np.radians(35), 9):\n",
    "#     t = b*f/(np.tan(a0)*(b/np.sin(a0) - f))*np.cos(a0)\n",
    "    d10 = b/np.sin(a0)\n",
    "    d20 = 1/(1/f - 1/d10)\n",
    "    t = d20 * np.cos(a0)\n",
    "    # for b in np.arange(8, 10.1, 0.1):\n",
    "    fs = []\n",
    "    for a in np.linspace(a0-np.radians(10), a0+np.radians(10), 20):\n",
    "        d1 = b/np.sin(a) * np.cos(a - a0)\n",
    "        d2 = t/np.cos(a) * np.cos(a - a0)\n",
    "        fs.append(d1*d2/(d1+d2))\n",
    "    plt.plot(fs)\n",
    "\n",
    "    \n",
    "# d2 = d0/np.\n",
    "# f = 5.37"
   ]
  },
  {
   "cell_type": "code",
   "execution_count": null,
   "metadata": {
    "collapsed": true
   },
   "outputs": [],
   "source": []
  }
 ],
 "metadata": {
  "anaconda-cloud": {},
  "kernelspec": {
   "display_name": "Python 3",
   "language": "python",
   "name": "python3"
  },
  "language_info": {
   "codemirror_mode": {
    "name": "ipython",
    "version": 3
   },
   "file_extension": ".py",
   "mimetype": "text/x-python",
   "name": "python",
   "nbconvert_exporter": "python",
   "pygments_lexer": "ipython3",
   "version": "3.5.2"
  }
 },
 "nbformat": 4,
 "nbformat_minor": 1
}
