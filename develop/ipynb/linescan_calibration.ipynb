{
 "cells": [
  {
   "cell_type": "code",
   "execution_count": 1,
   "metadata": {
    "collapsed": false
   },
   "outputs": [
    {
     "name": "stdout",
     "output_type": "stream",
     "text": [
      "Using matplotlib backend: Qt5Agg\n",
      "Populating the interactive namespace from numpy and matplotlib\n"
     ]
    }
   ],
   "source": [
    "%load_ext autoreload\n",
    "%autoreload 2\n",
    "%qtconsole --style monokai\n",
    "%pylab"
   ]
  },
  {
   "cell_type": "code",
   "execution_count": 2,
   "metadata": {
    "collapsed": true
   },
   "outputs": [],
   "source": [
    "import numpy as np\n",
    "import cv2\n",
    "import glob\n",
    "\n",
    "image_files = glob.glob('./calibration/*.bmp')\n",
    "pattern_size = (6, 8)\n",
    "\n",
    "def get_cam_matrix(image_files, pattern_size=(6, 8)):\n",
    "    # termination criteria\n",
    "    criteria = (cv2.TERM_CRITERIA_EPS + cv2.TERM_CRITERIA_MAX_ITER, 30, 0.001)\n",
    "    # prepare object points, like (0,0,0), (1,0,0), (2,0,0) ....,(6,5,0)\n",
    "    objp = np.zeros((np.product(pattern_size), 3), np.float32)\n",
    "    objp[:, :2] = np.mgrid[0:pattern_size[0], 0:pattern_size[1]].T.reshape(-1, 2)\n",
    "\n",
    "    # Arrays to store object points and image points from all the images.\n",
    "    obj_points = []  # 3d point in real world space\n",
    "    img_points = []  # 2d points in image plane.\n",
    "\n",
    "    for img_file in image_files:\n",
    "        img = cv2.imread(img_file, flags=cv2.IMREAD_GRAYSCALE)\n",
    "\n",
    "        # Find the chess board corners\n",
    "        ret, corners = cv2.findChessboardCorners(img, pattern_size, None)\n",
    "\n",
    "        # If found, add object points, image points (after refining them)\n",
    "        if ret:\n",
    "            obj_points.append(objp)\n",
    "            cv2.cornerSubPix(img,corners,(11,11),(-1,-1),criteria)\n",
    "            img_points.append(corners)\n",
    "            # Draw and display the corners\n",
    "            # cv2.drawChessboardCorners(img, (8,6), corners, ret)\n",
    "            # cv2.imshow('img',img)\n",
    "            # cv2.waitKey(500)\n",
    "\n",
    "    ret, cam_matrix, dist_coeff, rvecs, tvecs = cv2.calibrateCamera(obj_points, img_points, img.shape[::-1], None, None)\n",
    "    return ret, cam_matrix, dist_coeff, rvecs, tvecs"
   ]
  },
  {
   "cell_type": "code",
   "execution_count": 3,
   "metadata": {
    "collapsed": true
   },
   "outputs": [
    {
     "name": "stdout",
     "output_type": "stream",
     "text": [
      "(0.3234324381694008, array([[  1.83578502e+03,   0.00000000e+00,   5.88310716e+02],\n",
      "       [  0.00000000e+00,   1.90744938e+03,   5.02342674e+02],\n",
      "       [  0.00000000e+00,   0.00000000e+00,   1.00000000e+00]]), array([[ -2.18093860e-01,   3.04718409e+00,   9.26479786e-03,\n",
      "         -4.19581139e-03,  -4.33030067e+01]]), [array([[-0.41641594],\n",
      "       [-0.23196952],\n",
      "       [-1.0188316 ]])], [array([[ -3.36467605],\n",
      "       [ -0.58314509],\n",
      "       [ 22.78366868]])])\n"
     ]
    }
   ],
   "source": [
    "print(get_cam_matrix(image_files[3:4]))\n",
    "# h,  w = img.shape[:2]\n",
    "# newcameramtx, roi=cv2.getOptimalNewCameraMatrix(mtx,dist,(w,h),1,(w,h))\n",
    "\n",
    "# dst = cv2.undistort(img, mtx, dist, None, newcameramtx)\n",
    "# cv2.imwrite('calibresult.png')"
   ]
  },
  {
   "cell_type": "code",
   "execution_count": 108,
   "metadata": {
    "collapsed": false
   },
   "outputs": [
    {
     "name": "stdout",
     "output_type": "stream",
     "text": [
      "total error:  0.04826207049646621\n"
     ]
    }
   ],
   "source": [
    "mean_error = 0\n",
    "for i in range(len(objpoints)):\n",
    "    imgpoints2, _ = cv2.projectPoints(objpoints[i], rvecs[i], tvecs[i], mtx, dist)\n",
    "    error = cv2.norm(imgpoints[i],imgpoints2, cv2.NORM_L2)/len(imgpoints2)\n",
    "    mean_error += error\n",
    "\n",
    "print(\"total error: \", mean_error/len(objpoints))"
   ]
  }
 ],
 "metadata": {
  "anaconda-cloud": {},
  "kernelspec": {
   "display_name": "Python [default]",
   "language": "python",
   "name": "python3"
  },
  "language_info": {
   "codemirror_mode": {
    "name": "ipython",
    "version": 3
   },
   "file_extension": ".py",
   "mimetype": "text/x-python",
   "name": "python",
   "nbconvert_exporter": "python",
   "pygments_lexer": "ipython3",
   "version": "3.5.2"
  }
 },
 "nbformat": 4,
 "nbformat_minor": 0
}
