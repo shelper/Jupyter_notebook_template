{
 "cells": [
  {
   "cell_type": "code",
   "execution_count": 13,
   "metadata": {
    "collapsed": false
   },
   "outputs": [],
   "source": [
    "import matplotlib.pyplot as plt\n",
    "from math import *\n",
    "import numpy as np\n",
    "import sys\n",
    "from ipywidgets import interact, interactive, fixed\n",
    "import ipywidgets as widgets\n",
    "\n",
    "sys.path.append('../src')\n",
    "import constrain\n",
    "from constrain import *\n",
    "from recon import *"
   ]
  },
  {
   "cell_type": "code",
   "execution_count": 10,
   "metadata": {
    "collapsed": false
   },
   "outputs": [],
   "source": [
    "tire_width = 100\n",
    "groove_depth = 8\n",
    "groove_width = 5\n",
    "nonshadow_frac = 0.5\n",
    "efl = 5.37\n",
    "xc_res = 1.0 * constrain._pix_size\n",
    "wd_min = 200\n",
    "wd_max = 1000\n",
    "wd_range_min = 300\n",
    "\n",
    "tire_radius = 500\n",
    "emax = 0.2 # max acceptable measurement error due to flat tire surface assumption\n",
    "zres_min = 1/5 # min acceptable resolution 5lines per mm, or 0.2mm"
   ]
  },
  {
   "cell_type": "code",
   "execution_count": null,
   "metadata": {
    "collapsed": true
   },
   "outputs": [],
   "source": []
  },
  {
   "cell_type": "markdown",
   "metadata": {},
   "source": [
    "the minimum distance is requried to ensure that the groove is not completely shadowed by the ridge, otherwise, laser line cannot get into the groove, thus cannot image the depth of the groove.\n",
    "Figure below explains this shadowing issue. \n",
    "<img src='../figures/shadow.png'  alt=\"groove shadow\"  style=\"width: 50%; height: 50%\"/>"
   ]
  },
  {
   "cell_type": "code",
   "execution_count": 4,
   "metadata": {
    "collapsed": false
   },
   "outputs": [
    {
     "name": "stdout",
     "output_type": "stream",
     "text": [
      "minimal working distance for capture: 160.0 mm\n"
     ]
    }
   ],
   "source": [
    "# below ensure 2 specs: \n",
    "# 1) imager capture whole tire width, \n",
    "# 2) > 0.5 area has laser rather than shadowed\n",
    "wd_min = calc_min_distance(tire_width, groove_width, groove_depth, nonshadow_frac)   \n",
    "print('minimal working distance for capture:', wd_min, 'mm')"
   ]
  },
  {
   "cell_type": "markdown",
   "metadata": {},
   "source": [
    "As the incident angle of the laser to the tire is not vertical to the tire surface, we need to do angle correction of the measured groove depth. we decide to use two laser lines to measure depth profile at two different positions on the tire, and based on the relationship between the two measurements and some assumptions, we can potentially approximate the angle and perform the angle correction. the equation for the correction is:\n",
    "    $$ v_0 = v \\times (\\sin\\theta\\cos(\\Delta + \\delta) - \\cos\\theta \\sin(\\Delta + \\delta)) $$\n",
    "where v is the measured depth and $v_0$ is the actually depth, $\\Delta$ is the angle between the two laser lines(laser projection plane) and $\\delta$ is the angle change due to the surface curvature. if we assume the surface is flat, then $\\delta = 0$, we have an error of measurement as:\n",
    "    $$ \\epsilon = v \\times (\\sin\\theta\\cos(\\Delta + \\delta) - \\cos\\theta \\sin(\\Delta + \\delta)) - v \\times (\\sin\\theta\\cos(\\Delta) - \\cos\\theta \\sin(\\Delta)) $$\n",
    "we can simplify and approximate this as \n",
    "    $$\\epsilon \\approx 2v \\times \\sin(\\frac{\\delta}{2}) \\cos\\theta $$  \n",
    "usually $\\delta$ is fairly small and we can further simplify the equation to:\n",
    "    $$\\epsilon \\approx v \\times \\delta \\cos\\theta $$  \n",
    "\n",
    "based on previous figure, without loss of generality, we assume $\\theta = 60^\\circ$ and $ v = 5$, we have:\n",
    "    $$ \\epsilon \\approx 2.5 \\times \\delta < \\Delta z $$\n",
    "\n",
    "based on above, we can calulate the maximum seperation of the two laser scan lines due to assuming flat tire surface."
   ]
  },
  {
   "cell_type": "code",
   "execution_count": 5,
   "metadata": {
    "collapsed": false
   },
   "outputs": [],
   "source": [
    "# laser_fov_frac = 0.1 # seperation of the two scanning laser lines \n",
    "# s = 2 * d * tan(laser_fov_frac * constrain._cam_fov_height / 2) # space between the two scanning line on tire surface\n",
    "# e = 2.5 * s / tire_radius\n",
    "\n",
    "d = 360 \n",
    "smax = emax * tire_radius / 2.5\n",
    "laser_maxsep = np.arctan(smax / 2 / d) * 2 / constrain._cam_fov_height"
   ]
  },
  {
   "cell_type": "markdown",
   "metadata": {},
   "source": [
    "now we calculate the angle between the two laser lines is about 7 degrees, we then can calculate the effective depth-range to position the tire surface so that both line is in the camera FOV\n",
    "\n",
    "below calculates the minimal and maximum depth for laser line to be captured within the FOV of camera. figure below explains the meaning of parameters\n",
    "<img src='../figures/depth_range.png'  alt=\"depth range\"  style=\"width: 30%\"/>"
   ]
  },
  {
   "cell_type": "code",
   "execution_count": 6,
   "metadata": {
    "collapsed": false,
    "scrolled": false
   },
   "outputs": [
    {
     "data": {
      "text/plain": [
       "<matplotlib.text.Text at 0xd55c550>"
      ]
     },
     "execution_count": 6,
     "metadata": {},
     "output_type": "execute_result"
    }
   ],
   "source": [
    "bmin, bmax = 1, 100 # min and max of baseline length\n",
    "tmin, tmax = 1, 91 # min and max of the angle between baseline and laser projection plane\n",
    "bgrid, tgrid = np.mgrid[bmin:bmax, tmin:tmax]\n",
    "tgrid = tgrid * pi / 180\n",
    "\n",
    "tmp_ufunc = np.frompyfunc(calc_depth_range, 3, 2)\n",
    "rmin, rmax = tmp_ufunc(bgrid, tgrid, 1)\n",
    "rmin = rmin.astype(np.float)\n",
    "rmax = rmax.astype(np.float)\n",
    "\n",
    "\n",
    "plt.figure(), \n",
    "ax = plt.subplot(1,2,1) \n",
    "im = ax.imshow(rmin, vmin=0, vmax=wd_min)\n",
    "plt.xlabel(r\"$\\theta$\", fontsize=16)\n",
    "plt.ylabel(r\"baseline\", fontsize=16)\n",
    "plt.title(\"$d_{min}$\", fontsize=12)\n",
    "plt.colorbar(im,fraction=0.05, pad=0.04)\n",
    "\n",
    "\n",
    "ax = plt.subplot(1,2,2) \n",
    "im = ax.imshow(rmax, vmin=0, vmax=wd_max)\n",
    "plt.xlabel(r\"$\\theta$\", fontsize=16)\n",
    "plt.ylabel(r\"baseline\", fontsize=16)\n",
    "plt.title(\"$d_{max}$\", fontsize=12)\n",
    "plt.colorbar(im,fraction=0.05, pad=0.04)\n",
    "plt.tight_layout()\n",
    "\n",
    "plt.figure()\n",
    "wd_mask  = (rmin < wd_min) * (rmax > wd_max)\n",
    "plt.imshow(wd_mask)\n",
    "plt.xlabel(r\"$\\theta$\", fontsize=16)\n",
    "plt.ylabel(r\"baseline\", fontsize=16)\n",
    "plt.title(\"$d_{max} > 1000mm$ \\n & $d_{min} < 200mm $\", fontsize=12)"
   ]
  },
  {
   "cell_type": "markdown",
   "metadata": {},
   "source": [
    "for two laser scanning lines, the working distances of them should have overlap so both line will be in the camera FOV, as shown below, the usable working distance is highlighted in red:\n",
    "<img src='../figures/wd_range.png'  alt=\"working distance\"  style=\"width: 50%; height: 60%\"/>"
   ]
  },
  {
   "cell_type": "code",
   "execution_count": 7,
   "metadata": {
    "collapsed": false,
    "scrolled": false
   },
   "outputs": [
    {
     "data": {
      "text/plain": [
       "<matplotlib.text.Text at 0xb4832b0>"
      ]
     },
     "execution_count": 7,
     "metadata": {},
     "output_type": "execute_result"
    }
   ],
   "source": [
    "shift = int(degrees(laser_maxsep * constrain._cam_fov_height))\n",
    "rmax2 = np.roll(rmax, -shift, axis=1)\n",
    "rmin2 = np.roll(rmin, -shift, axis=1)\n",
    "\n",
    "rmin_new = np.maximum(rmin, rmin2)\n",
    "rmax_new = np.minimum(rmax, rmax2)\n",
    "rmin_new[:, -shift:] = 0 \n",
    "rmax_new[:, -shift:] = 0 \n",
    "wd_range_min = 300 \n",
    "wd_usable = ((rmax_new - rmin_new) > wd_range_min)\n",
    "wd_usable[:, -shift:] = 1\n",
    "plt.figure() \n",
    "plt.imshow(wd_usable)\n",
    "plt.xlabel(r\"$\\theta$\", fontsize=16)\n",
    "plt.ylabel(r\"baseline\", fontsize=16)\n",
    "plt.title(\"work distance required for \\n laser line in camera FOV\", fontsize=12)"
   ]
  },
  {
   "cell_type": "markdown",
   "metadata": {},
   "source": [
    "depth resolution is also determined by the baseline and position of x. for a simplified setup, reconstruction can be done in a simplified way, that the laser projection plane is parallel to the y axis, and the baseline is parallel to the x axis. ![fig.1 simplified setup](../figures/simple_setup.png)\n",
    "as such, 3D point (x, y, z) in camera coordinate can be calculated as:\n",
    "    $$(x, y, z) = t * (x', y', f)$$\n",
    "where x', y' is the distance of the 2D pixel to the center of the camera, \n",
    "b is the length of baseline and theta is the angle between baseline and the \n",
    "laser projection plane, and \n",
    "    $$t = \\frac{b}{f * cot(\\theta) - x'}$$ \n",
    "    $$z = \\frac{bf}{f * cot(\\theta) - x'}$$ \n",
    "based on this we can calculate the resolution in z depth, by:\n",
    "    $$\\left. \\Delta z = \\frac{dz}{dx} \\right|_{x'} * \\Delta x'$$\n",
    "where $\\Delta x$ is the system resolution on the imaging sensor, here we use 1 pixel, and x is the position of the laser line to the sensor center along x-axis, we furture calculate $\\Delta z$ as:\n",
    "    $$ \\Delta z = \\frac{b f \\Delta x'}{(f \\cot \\theta - x')^2}$$"
   ]
  },
  {
   "cell_type": "code",
   "execution_count": 8,
   "metadata": {
    "collapsed": false
   },
   "outputs": [
    {
     "data": {
      "text/plain": [
       "<matplotlib.text.Text at 0xd58c2e8>"
      ]
     },
     "execution_count": 8,
     "metadata": {},
     "output_type": "execute_result"
    }
   ],
   "source": [
    "# x = laser_maxsep * constrain._pix_num_height * constrain._pix_size/ 2\n",
    "bgrid, wdgrid = np.mgrid[15:60, 200:500:5]\n",
    "tmp_ufunc = np.frompyfunc(calc_zres, 5, 1)\n",
    "zres = tmp_ufunc(bgrid, wdgrid, 80, efl, 0.00375)\n",
    "zres = zres.astype(np.float)\n",
    "\n",
    "plt.figure(), plt.imshow(zres, vmin=0, vmax=2), plt.colorbar()\n",
    "plt.xlabel(r\"working distance\", fontsize=16)\n",
    "plt.xticks(np.arange(0,60,10), np.arange(200,500,50))\n",
    "plt.ylabel(r\"baseline\", fontsize=16)\n",
    "plt.yticks(np.arange(0,45,10), np.arange(15,60,10))\n",
    "plt.title(\"depth resolution vs. working distance\")"
   ]
  },
  {
   "cell_type": "code",
   "execution_count": 6,
   "metadata": {
    "collapsed": false,
    "scrolled": true
   },
   "outputs": [
    {
     "ename": "NameError",
     "evalue": "name 'efl' is not defined",
     "output_type": "error",
     "traceback": [
      "\u001b[0;31m---------------------------------------------------------------------------\u001b[0m",
      "\u001b[0;31mNameError\u001b[0m                                 Traceback (most recent call last)",
      "\u001b[0;32m<ipython-input-6-5fc0b8c43207>\u001b[0m in \u001b[0;36m<module>\u001b[0;34m()\u001b[0m\n\u001b[1;32m      9\u001b[0m \u001b[0mbgrid\u001b[0m\u001b[1;33m,\u001b[0m \u001b[0mwdgrid\u001b[0m \u001b[1;33m=\u001b[0m \u001b[0mnp\u001b[0m\u001b[1;33m.\u001b[0m\u001b[0mmgrid\u001b[0m\u001b[1;33m[\u001b[0m\u001b[0mmin_b\u001b[0m\u001b[1;33m:\u001b[0m\u001b[0mmax_b\u001b[0m\u001b[1;33m:\u001b[0m\u001b[1;36m0.5\u001b[0m\u001b[1;33m,\u001b[0m \u001b[0mmin_wd\u001b[0m\u001b[1;33m:\u001b[0m\u001b[0mmax_wd\u001b[0m\u001b[1;33m:\u001b[0m\u001b[1;36m2\u001b[0m\u001b[1;33m]\u001b[0m\u001b[1;33m\u001b[0m\u001b[0m\n\u001b[1;32m     10\u001b[0m \u001b[0mtmp_ufunc\u001b[0m \u001b[1;33m=\u001b[0m \u001b[0mnp\u001b[0m\u001b[1;33m.\u001b[0m\u001b[0mfrompyfunc\u001b[0m\u001b[1;33m(\u001b[0m\u001b[0mcalc_zres\u001b[0m\u001b[1;33m,\u001b[0m \u001b[1;36m5\u001b[0m\u001b[1;33m,\u001b[0m \u001b[1;36m1\u001b[0m\u001b[1;33m)\u001b[0m\u001b[1;33m\u001b[0m\u001b[0m\n\u001b[0;32m---> 11\u001b[0;31m \u001b[0mzres\u001b[0m \u001b[1;33m=\u001b[0m \u001b[0mtmp_ufunc\u001b[0m\u001b[1;33m(\u001b[0m\u001b[0mbgrid\u001b[0m\u001b[1;33m,\u001b[0m \u001b[0mwdgrid\u001b[0m\u001b[1;33m,\u001b[0m \u001b[1;36m80\u001b[0m\u001b[1;33m,\u001b[0m \u001b[0mefl\u001b[0m\u001b[1;33m,\u001b[0m \u001b[1;36m0.00375\u001b[0m\u001b[1;33m)\u001b[0m\u001b[1;33m\u001b[0m\u001b[0m\n\u001b[0m\u001b[1;32m     12\u001b[0m \u001b[0mzres\u001b[0m \u001b[1;33m=\u001b[0m \u001b[0mzres\u001b[0m\u001b[1;33m.\u001b[0m\u001b[0mastype\u001b[0m\u001b[1;33m(\u001b[0m\u001b[0mnp\u001b[0m\u001b[1;33m.\u001b[0m\u001b[0mfloat\u001b[0m\u001b[1;33m)\u001b[0m\u001b[1;33m\u001b[0m\u001b[0m\n\u001b[1;32m     13\u001b[0m \u001b[1;33m\u001b[0m\u001b[0m\n",
      "\u001b[0;31mNameError\u001b[0m: name 'efl' is not defined"
     ]
    }
   ],
   "source": [
    "min_b = 15\n",
    "max_b = 60\n",
    "tire_width = 300\n",
    "min_tire_width = 150\n",
    "wd2hfov = tan(constrain._cam_fov_width / 2) * 2 \n",
    "min_wd = round(min_tire_width/wd2hfov)\n",
    "max_wd = round(tire_width/wd2hfov)\n",
    "\n",
    "bgrid, wdgrid = np.mgrid[min_b:max_b:0.5, min_wd:max_wd:2]\n",
    "tmp_ufunc = np.frompyfunc(calc_zres, 5, 1)\n",
    "zres = tmp_ufunc(bgrid, wdgrid, 80, efl, 0.00375)\n",
    "zres = zres.astype(np.float)\n",
    "\n",
    "@interact(tire_width=widgets.IntSlider(min=min_tire_width,max=tire_width,step=1,value=10), \n",
    "          baseline=widgets.IntSlider(min=min_b, max=max_b, step=1, value=30), \n",
    "          zres=fixed(zres))\n",
    "def find_min_wd(tire_width, baseline, zres):\n",
    "    wd2hfov = tan(constrain._cam_fov_width / 2) * 2 \n",
    "    col = round((tire_width / wd2hfov - min_wd)/2)\n",
    "    new_zres = zres.copy()\n",
    "    res = new_zres[(baseline-min_b) * 2 - 1, int(col)]\n",
    "    new_zres[:, int(col)] = 0\n",
    "    new_zres[(baseline-min_b) * 2 - 1, :] = 0\n",
    "    num_b, num_wd = new_zres.shape\n",
    "\n",
    "    plt.figure(), plt.imshow(new_zres, vmin=0, vmax=2), plt.colorbar()\n",
    "    plt.xlabel(\"working distance: {}\".format(min_wd + col * 2), fontsize=16)\n",
    "    x_ticks = np.arange(min_wd, max_wd, (max_wd-min_wd)/num_wd * 20)\n",
    "    plt.xticks(np.arange(0,num_wd,20), x_ticks.astype(int))\n",
    "    plt.ylabel(\"baseline\", fontsize=16)\n",
    "    plt.yticks(np.arange(0,num_b,10), np.arange(min_b,max_b, (max_b - min_b)/num_b *10))\n",
    "    plt.title(\"depth resolution vs. working distance, resolution: {:.2f}\".format(res))\n",
    "    "
   ]
  },
  {
   "cell_type": "markdown",
   "metadata": {},
   "source": [
    "notice that in above, when $b \\rightarrow 0$, you see resolution improvemnt, which is due to that $\\cot \\theta \\rightarrow \\infty$, that further caused errors. we should not expect decreasing b improves depth resolution\n",
    "\n",
    "other concerns:\n",
    "* calibration target design\n",
    "* errors due to that laser projection plane is not parallet to y-axis\n",
    "* adaptive illumination and exposure time to address different lighting\n",
    "    - need to turn off the LED\n",
    "    - laser intensity fall off with distance increase"
   ]
  },
  {
   "cell_type": "markdown",
   "metadata": {
    "collapsed": true
   },
   "source": [
    "assume we need to cover a tire with size of 300mm wide, the camera has to be 330mm away from the area on the tire it is imaging. as such, heightwise "
   ]
  }
 ],
 "metadata": {
  "anaconda-cloud": {},
  "kernelspec": {
   "display_name": "Python [default]",
   "language": "python",
   "name": "python3"
  },
  "language_info": {
   "codemirror_mode": {
    "name": "ipython",
    "version": 3
   },
   "file_extension": ".py",
   "mimetype": "text/x-python",
   "name": "python",
   "nbconvert_exporter": "python",
   "pygments_lexer": "ipython3",
   "version": "3.5.2"
  }
 },
 "nbformat": 4,
 "nbformat_minor": 0
}
